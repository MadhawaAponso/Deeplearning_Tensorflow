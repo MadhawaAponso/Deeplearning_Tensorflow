{
  "nbformat": 4,
  "nbformat_minor": 0,
  "metadata": {
    "colab": {
      "provenance": [],
      "toc_visible": true,
      "authorship_tag": "ABX9TyMXKL4Qh/YIySjMwNW+PDPp",
      "include_colab_link": true
    },
    "kernelspec": {
      "name": "python3",
      "display_name": "Python 3"
    },
    "language_info": {
      "name": "python"
    }
  },
  "cells": [
    {
      "cell_type": "markdown",
      "metadata": {
        "id": "view-in-github",
        "colab_type": "text"
      },
      "source": [
        "<a href=\"https://colab.research.google.com/github/MadhawaAponso/Deeplearning_Tensorflow/blob/main/00_tensorFlowFundementals.ipynb\" target=\"_parent\"><img src=\"https://colab.research.google.com/assets/colab-badge.svg\" alt=\"Open In Colab\"/></a>"
      ]
    },
    {
      "cell_type": "code",
      "execution_count": 1,
      "metadata": {
        "id": "c4mp23-8QpTg"
      },
      "outputs": [],
      "source": [
        "#In this notebook we are going to do some fundementals in Tensorflow"
      ]
    },
    {
      "cell_type": "markdown",
      "source": [
        "# In this notebook we are going to do some fundementals in tensorflow\n",
        "In this ,\n",
        "1. Introduction\n",
        "2."
      ],
      "metadata": {
        "id": "Mc_VCmNcTJ59"
      }
    },
    {
      "cell_type": "markdown",
      "source": [
        "#Introducton\n"
      ],
      "metadata": {
        "id": "2_9FpY-ZTSkF"
      }
    },
    {
      "cell_type": "markdown",
      "source": [
        "#What is a Tensor?\n",
        "A tensor is a multi-dimensional array used in TensorFlow for data representation. When you create a tensor using tf.constant, its values are fixed and cannot be changed.\n"
      ],
      "metadata": {
        "id": "49NN3wkMUyZ7"
      }
    },
    {
      "cell_type": "code",
      "source": [
        "#import tensorflow\n",
        "import tensorflow as tf\n",
        "print(tf.__version__)"
      ],
      "metadata": {
        "colab": {
          "base_uri": "https://localhost:8080/"
        },
        "id": "7KgttKpYWwkL",
        "outputId": "b94afc9f-e2da-4760-c6b9-ade5bd3e3de4"
      },
      "execution_count": 2,
      "outputs": [
        {
          "output_type": "stream",
          "name": "stdout",
          "text": [
            "2.15.0\n"
          ]
        }
      ]
    },
    {
      "cell_type": "markdown",
      "source": [
        "#tf.constant\n",
        "n TensorFlow, tf.constant is used to create a tensor whose value is fixed and cannot be changed. It is an immutable tensor, which makes it useful for storing constant values that are used repeatedly in computations but do not need to be updated."
      ],
      "metadata": {
        "id": "2TGHq8da6BwO"
      }
    },
    {
      "cell_type": "code",
      "source": [
        "# Create a scalar tensor : this have no dimention just a number\n",
        "scalar = tf.constant(7)\n",
        "print(scalar)  # Output: tf.Tensor(7, shape=(), dtype=int32)\n",
        "\n",
        "# Create a vector tensor : This is one dimention tensor and\n",
        "vector = tf.constant([1, 2, 3])\n",
        "print(vector)  # Output: tf.Tensor([1 2 3], shape=(3,), dtype=int32)\n",
        "\n",
        "# Create a matrix tensor\n",
        "matrix = tf.constant([[1, 2, 3], [4, 5, 6]])\n",
        "print(matrix)  # Output: tf.Tensor([[1 2 3] [4 5 6]], shape=(2, 3), dtype=int32)\n",
        "\n",
        "# Create a 3-D tensor\n",
        "tensor_3d = tf.constant([[[1, 2], [3, 4]], [[5, 6], [7, 8]]])\n",
        "print(tensor_3d)  # Output: tf.Tensor([[[1 2] [3 4]] [[5 6] [7 8]]], shape=(2, 2, 2), dtype=int32)"
      ],
      "metadata": {
        "colab": {
          "base_uri": "https://localhost:8080/"
        },
        "id": "xoza0fBpUQO8",
        "outputId": "491d5d04-6f73-4b46-f153-622290d2ace9"
      },
      "execution_count": 3,
      "outputs": [
        {
          "output_type": "stream",
          "name": "stdout",
          "text": [
            "tf.Tensor(7, shape=(), dtype=int32)\n",
            "tf.Tensor([1 2 3], shape=(3,), dtype=int32)\n",
            "tf.Tensor(\n",
            "[[1 2 3]\n",
            " [4 5 6]], shape=(2, 3), dtype=int32)\n",
            "tf.Tensor(\n",
            "[[[1 2]\n",
            "  [3 4]]\n",
            "\n",
            " [[5 6]\n",
            "  [7 8]]], shape=(2, 2, 2), dtype=int32)\n"
          ]
        }
      ]
    },
    {
      "cell_type": "code",
      "source": [
        "#Dimension of each scaler , vector , matix and 3d tensor\n",
        "print(scalar.ndim)\n",
        "print(vector.ndim)\n",
        "print(matrix.ndim)\n",
        "print(tensor_3d.ndim)"
      ],
      "metadata": {
        "colab": {
          "base_uri": "https://localhost:8080/"
        },
        "id": "Hxq9WuzaXCzV",
        "outputId": "260a616e-5aef-4c33-80b7-6eb9198316d0"
      },
      "execution_count": 4,
      "outputs": [
        {
          "output_type": "stream",
          "name": "stdout",
          "text": [
            "0\n",
            "1\n",
            "2\n",
            "3\n"
          ]
        }
      ]
    },
    {
      "cell_type": "code",
      "source": [
        "#create with data type\n",
        "matrix_1 = tf.constant([[1.,2.]\n",
        "                        ,[3.,4.],\n",
        "                        [5.,6.]],dtype=tf.float16)\n",
        "print(matrix_1)"
      ],
      "metadata": {
        "colab": {
          "base_uri": "https://localhost:8080/"
        },
        "id": "HcNYVGQ9wLae",
        "outputId": "70d38255-e2ad-43a2-84c3-2abd32ab39e6"
      },
      "execution_count": 5,
      "outputs": [
        {
          "output_type": "stream",
          "name": "stdout",
          "text": [
            "tf.Tensor(\n",
            "[[1. 2.]\n",
            " [3. 4.]\n",
            " [5. 6.]], shape=(3, 2), dtype=float16)\n"
          ]
        }
      ]
    },
    {
      "cell_type": "markdown",
      "source": [
        "Totall  number of dimensions are how many elements in the shape()"
      ],
      "metadata": {
        "id": "TNr2NVWZxYEE"
      }
    },
    {
      "cell_type": "code",
      "source": [
        "tensor = tf.constant([[[1,2,3],[4,5,6]],\n",
        "                     [[6,7,8],[8,9,10]]])\n",
        "tensor"
      ],
      "metadata": {
        "colab": {
          "base_uri": "https://localhost:8080/"
        },
        "id": "ykWIH6K-z3FO",
        "outputId": "fd4cad02-3114-4de1-d161-2cce72e65fa5"
      },
      "execution_count": 7,
      "outputs": [
        {
          "output_type": "execute_result",
          "data": {
            "text/plain": [
              "<tf.Tensor: shape=(2, 2, 3), dtype=int32, numpy=\n",
              "array([[[ 1,  2,  3],\n",
              "        [ 4,  5,  6]],\n",
              "\n",
              "       [[ 6,  7,  8],\n",
              "        [ 8,  9, 10]]], dtype=int32)>"
            ]
          },
          "metadata": {},
          "execution_count": 7
        }
      ]
    },
    {
      "cell_type": "markdown",
      "source": [
        "\n",
        "\n",
        "*   Scaler : a single numbe\n",
        "*   vector : a number with direction\n",
        "*   matrix : 2 dimensional array of numbers\n",
        "*   tensor : n dimensional arrays of numbers\n",
        "\n",
        "\n",
        "\n"
      ],
      "metadata": {
        "id": "FAJ-VDLU0SlB"
      }
    },
    {
      "cell_type": "markdown",
      "source": [
        "#tf.Varibale\n",
        "In TensorFlow, a tf.Variable represents a tensor whose value can be changed during execution. It is typically used for storing weights and biases in neural networks or any other model parameters that need to be updated during training."
      ],
      "metadata": {
        "id": "QN6k-4ZZ5qP6"
      }
    },
    {
      "cell_type": "code",
      "source": [
        "#using variable tensor\n",
        "changeable_tensor = tf.Variable([1,2,3])\n",
        "unchangeable_tensor = tf.constant([1,2,3])\n",
        "\n",
        "print(changeable_tensor)\n",
        "print(unchangeable_tensor)"
      ],
      "metadata": {
        "colab": {
          "base_uri": "https://localhost:8080/"
        },
        "id": "hT3Kz0yJ3Myi",
        "outputId": "04c464fc-3b4c-40e2-aab5-4c136b18f582"
      },
      "execution_count": 9,
      "outputs": [
        {
          "output_type": "stream",
          "name": "stdout",
          "text": [
            "<tf.Variable 'Variable:0' shape=(3,) dtype=int32, numpy=array([1, 2, 3], dtype=int32)>\n",
            "tf.Tensor([1 2 3], shape=(3,), dtype=int32)\n"
          ]
        }
      ]
    },
    {
      "cell_type": "code",
      "source": [
        "#now lets see wether we can change values in these tensors\n",
        "changeable_tensor[0].assign(8) # [1,2,3]->[8,2,3]\n",
        "#in changeable tensor it is posssible that we can change values"
      ],
      "metadata": {
        "colab": {
          "base_uri": "https://localhost:8080/"
        },
        "id": "nwm7HK6v5N5x",
        "outputId": "a712c187-ead4-4318-f65c-d7bd1f238eab"
      },
      "execution_count": 10,
      "outputs": [
        {
          "output_type": "execute_result",
          "data": {
            "text/plain": [
              "<tf.Variable 'UnreadVariable' shape=(3,) dtype=int32, numpy=array([8, 2, 3], dtype=int32)>"
            ]
          },
          "metadata": {},
          "execution_count": 10
        }
      ]
    },
    {
      "cell_type": "code",
      "source": [
        "#but in unchangeable tensor it is not possible"
      ],
      "metadata": {
        "id": "Qw5mn7LT5jcS"
      },
      "execution_count": null,
      "outputs": []
    }
  ]
}